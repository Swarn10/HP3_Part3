{
 "cells": [
  {
   "cell_type": "code",
   "execution_count": 87,
   "metadata": {},
   "outputs": [],
   "source": [
    "import numpy as np\n",
    "import pandas as pd\n",
    "import csv\n",
    "import argparse\n",
    "import os\n",
    "import shutil\n",
    "import matplotlib.pyplot as plt\n",
    "%matplotlib inline\n",
    "import seaborn as sns   \n",
    "sns.set(context = \"poster\", font_scale = 0.95, rc={\"lines.linewidth\": 1.5, 'lines.markersize': 10, 'legend.frameon': True})"
   ]
  },
  {
   "cell_type": "code",
   "execution_count": 88,
   "metadata": {},
   "outputs": [],
   "source": [
    "MEM_FILE = {}\n",
    "COLORS = ['deepskyblue','green','darkred','gold','violet']\n",
    "PLOT_DIR = \"./Plots/\""
   ]
  },
  {
   "cell_type": "code",
   "execution_count": 89,
   "metadata": {},
   "outputs": [],
   "source": [
    "def plotGPUData(mem_file, colors, plot_dir):\n",
    "    plt.figure(figsize=(20,8))\n",
    "    for i,k in enumerate(mem_file.keys()):\n",
    "        Y = []\n",
    "        with open(mem_file[k],'r') as f:\n",
    "            csv_r = csv.reader(f)\n",
    "            head = next(csv_r)\n",
    "            for row in csv_r:\n",
    "                val_str = row[0]\n",
    "                val_str = val_str.split(' ')\n",
    "                val = float(val_str[0])\n",
    "                Y.append(val)\n",
    "        Y = np.array(Y)\n",
    "        Y = Y - Y[0]\n",
    "        X = list(range(Y.size))\n",
    "\n",
    "        plt.fill_between( X, Y, color=colors[i], alpha=0.2)\n",
    "        plt.plot(X, Y, color=colors[i], alpha=0.8, label = k)\n",
    "\n",
    "    plt.title(\"GPU Memory Used for one VGG19 Run [Batchsize = 1]\")\n",
    "    plt.xlabel('Sample Time Intervals [1 Time Interval = 100 ms]' + r'$\\rightarrow$')\n",
    "    plt.ylabel('Used GPU Memory (in MB)' + r'$\\rightarrow$')\n",
    "    plt.legend()\n",
    "    plt.savefig(plot_dir+\"GPUMemoryUtilization.png\", bbox_inches=\"tight\")\n",
    "    plt.close()"
   ]
  },
  {
   "cell_type": "code",
   "execution_count": 90,
   "metadata": {},
   "outputs": [
    {
     "name": "stdout",
     "output_type": "stream",
     "text": [
      "FFT Convolution log not found..Skipping\n",
      "Winograd Convolution log not found..Skipping\n"
     ]
    }
   ],
   "source": [
    "if __name__ == \"__main__\":\n",
    "    \n",
    "    #Direct Convolution File\n",
    "    if not os.path.exists(\"./memory_direct.txt\"):\n",
    "        print (\"Direct Convolution log not found..Skipping\")\n",
    "    else:\n",
    "        MEM_FILE['DIRECT'] = \"./memory_direct.txt\"\n",
    "    \n",
    "    #Im2Col Convolution File\n",
    "    if not os.path.exists(\"./memory_im2col.txt\"):\n",
    "        print (\"Im2Col Convolution log not found..Skipping\")\n",
    "    else:\n",
    "        MEM_FILE['IM2COL'] = \"./memory_im2col.txt\"\n",
    "    \n",
    "    #FFT Convolution File\n",
    "    if not os.path.exists(\"./memory_fft.txt\"):\n",
    "        print (\"FFT Convolution log not found..Skipping\")\n",
    "    else:\n",
    "        MEM_FILE['FFT'] = \"./memory_fft.txt\"\n",
    "    \n",
    "    #Winograd Convolution File\n",
    "    if not os.path.exists(\"./memory_winograd.txt\"):\n",
    "        print (\"Winograd Convolution log not found..Skipping\")\n",
    "    else:\n",
    "        MEM_FILE['WINOGRAD'] = \"./memory_winograd.txt\"\n",
    "    \n",
    "    #CUDNN Convolution File\n",
    "    if not os.path.exists(\"./memory_cudnn.txt\"):\n",
    "        print (\"CUDNN Convolution log not found..Skipping\")\n",
    "    else:\n",
    "        MEM_FILE['CUDNN'] = \"./memory_cudnn.txt\"\n",
    "        \n",
    "    plotGPUData(MEM_FILE, COLORS, PLOT_DIR)"
   ]
  },
  {
   "cell_type": "code",
   "execution_count": null,
   "metadata": {},
   "outputs": [],
   "source": []
  },
  {
   "cell_type": "code",
   "execution_count": null,
   "metadata": {},
   "outputs": [],
   "source": []
  },
  {
   "cell_type": "code",
   "execution_count": null,
   "metadata": {},
   "outputs": [],
   "source": []
  }
 ],
 "metadata": {
  "kernelspec": {
   "display_name": "Python 3.7.3 64-bit ('pytorch10.1_opencv': conda)",
   "language": "python",
   "name": "python37364bitpytorch101opencvconda9b9ab5bddcea4334977e8ffe43fe0a66"
  },
  "language_info": {
   "codemirror_mode": {
    "name": "ipython",
    "version": 3
   },
   "file_extension": ".py",
   "mimetype": "text/x-python",
   "name": "python",
   "nbconvert_exporter": "python",
   "pygments_lexer": "ipython3",
   "version": "3.7.3"
  }
 },
 "nbformat": 4,
 "nbformat_minor": 2
}
